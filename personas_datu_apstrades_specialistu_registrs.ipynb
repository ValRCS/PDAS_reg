{
 "cells": [
  {
   "cell_type": "code",
   "execution_count": 12,
   "metadata": {},
   "outputs": [
    {
     "name": "stderr",
     "output_type": "stream",
     "text": [
      "/home/mix/anaconda3/lib/python3.6/site-packages/bs4/__init__.py:181: UserWarning: No parser was explicitly specified, so I'm using the best available HTML parser for this system (\"lxml\"). This usually isn't a problem, but if you run this code on another system, or in a different virtual environment, it may use a different parser and behave differently.\n",
      "\n",
      "The code that caused this warning is on line 193 of the file /home/mix/anaconda3/lib/python3.6/runpy.py. To get rid of this warning, change code that looks like this:\n",
      "\n",
      " BeautifulSoup(YOUR_MARKUP})\n",
      "\n",
      "to this:\n",
      "\n",
      " BeautifulSoup(YOUR_MARKUP, \"lxml\")\n",
      "\n",
      "  markup_type=markup_type))\n"
     ]
    },
    {
     "ename": "NameError",
     "evalue": "name 'NoSuchElementException' is not defined",
     "output_type": "error",
     "traceback": [
      "\u001b[0;31m---------------------------------------------------------------------------\u001b[0m",
      "\u001b[0;31mNoSuchElementException\u001b[0m                    Traceback (most recent call last)",
      "\u001b[0;32m<ipython-input-12-e46f54886cc0>\u001b[0m in \u001b[0;36m<module>\u001b[0;34m()\u001b[0m\n\u001b[1;32m     11\u001b[0m         \u001b[0mtime\u001b[0m\u001b[0;34m.\u001b[0m\u001b[0msleep\u001b[0m\u001b[0;34m(\u001b[0m\u001b[0;36m1\u001b[0m\u001b[0;34m)\u001b[0m\u001b[0;34m\u001b[0m\u001b[0m\n\u001b[0;32m---> 12\u001b[0;31m         \u001b[0mbrowser\u001b[0m\u001b[0;34m.\u001b[0m\u001b[0mfind_element_by_link_text\u001b[0m\u001b[0;34m(\u001b[0m\u001b[0mstr\u001b[0m\u001b[0;34m(\u001b[0m\u001b[0mi\u001b[0m\u001b[0;34m)\u001b[0m\u001b[0;34m)\u001b[0m\u001b[0;34m.\u001b[0m\u001b[0mclick\u001b[0m\u001b[0;34m(\u001b[0m\u001b[0;34m)\u001b[0m\u001b[0;34m\u001b[0m\u001b[0m\n\u001b[0m\u001b[1;32m     13\u001b[0m         \u001b[0mpageSource\u001b[0m\u001b[0;34m=\u001b[0m\u001b[0mbrowser\u001b[0m\u001b[0;34m.\u001b[0m\u001b[0mpage_source\u001b[0m\u001b[0;34m\u001b[0m\u001b[0m\n",
      "\u001b[0;32m~/anaconda3/lib/python3.6/site-packages/selenium/webdriver/remote/webdriver.py\u001b[0m in \u001b[0;36mfind_element_by_link_text\u001b[0;34m(self, link_text)\u001b[0m\n\u001b[1;32m    418\u001b[0m         \"\"\"\n\u001b[0;32m--> 419\u001b[0;31m         \u001b[0;32mreturn\u001b[0m \u001b[0mself\u001b[0m\u001b[0;34m.\u001b[0m\u001b[0mfind_element\u001b[0m\u001b[0;34m(\u001b[0m\u001b[0mby\u001b[0m\u001b[0;34m=\u001b[0m\u001b[0mBy\u001b[0m\u001b[0;34m.\u001b[0m\u001b[0mLINK_TEXT\u001b[0m\u001b[0;34m,\u001b[0m \u001b[0mvalue\u001b[0m\u001b[0;34m=\u001b[0m\u001b[0mlink_text\u001b[0m\u001b[0;34m)\u001b[0m\u001b[0;34m\u001b[0m\u001b[0m\n\u001b[0m\u001b[1;32m    420\u001b[0m \u001b[0;34m\u001b[0m\u001b[0m\n",
      "\u001b[0;32m~/anaconda3/lib/python3.6/site-packages/selenium/webdriver/remote/webdriver.py\u001b[0m in \u001b[0;36mfind_element\u001b[0;34m(self, by, value)\u001b[0m\n\u001b[1;32m    954\u001b[0m             \u001b[0;34m'using'\u001b[0m\u001b[0;34m:\u001b[0m \u001b[0mby\u001b[0m\u001b[0;34m,\u001b[0m\u001b[0;34m\u001b[0m\u001b[0m\n\u001b[0;32m--> 955\u001b[0;31m             'value': value})['value']\n\u001b[0m\u001b[1;32m    956\u001b[0m \u001b[0;34m\u001b[0m\u001b[0m\n",
      "\u001b[0;32m~/anaconda3/lib/python3.6/site-packages/selenium/webdriver/remote/webdriver.py\u001b[0m in \u001b[0;36mexecute\u001b[0;34m(self, driver_command, params)\u001b[0m\n\u001b[1;32m    311\u001b[0m         \u001b[0;32mif\u001b[0m \u001b[0mresponse\u001b[0m\u001b[0;34m:\u001b[0m\u001b[0;34m\u001b[0m\u001b[0m\n\u001b[0;32m--> 312\u001b[0;31m             \u001b[0mself\u001b[0m\u001b[0;34m.\u001b[0m\u001b[0merror_handler\u001b[0m\u001b[0;34m.\u001b[0m\u001b[0mcheck_response\u001b[0m\u001b[0;34m(\u001b[0m\u001b[0mresponse\u001b[0m\u001b[0;34m)\u001b[0m\u001b[0;34m\u001b[0m\u001b[0m\n\u001b[0m\u001b[1;32m    313\u001b[0m             response['value'] = self._unwrap_value(\n",
      "\u001b[0;32m~/anaconda3/lib/python3.6/site-packages/selenium/webdriver/remote/errorhandler.py\u001b[0m in \u001b[0;36mcheck_response\u001b[0;34m(self, response)\u001b[0m\n\u001b[1;32m    241\u001b[0m             \u001b[0;32mraise\u001b[0m \u001b[0mexception_class\u001b[0m\u001b[0;34m(\u001b[0m\u001b[0mmessage\u001b[0m\u001b[0;34m,\u001b[0m \u001b[0mscreen\u001b[0m\u001b[0;34m,\u001b[0m \u001b[0mstacktrace\u001b[0m\u001b[0;34m,\u001b[0m \u001b[0malert_text\u001b[0m\u001b[0;34m)\u001b[0m\u001b[0;34m\u001b[0m\u001b[0m\n\u001b[0;32m--> 242\u001b[0;31m         \u001b[0;32mraise\u001b[0m \u001b[0mexception_class\u001b[0m\u001b[0;34m(\u001b[0m\u001b[0mmessage\u001b[0m\u001b[0;34m,\u001b[0m \u001b[0mscreen\u001b[0m\u001b[0;34m,\u001b[0m \u001b[0mstacktrace\u001b[0m\u001b[0;34m)\u001b[0m\u001b[0;34m\u001b[0m\u001b[0m\n\u001b[0m\u001b[1;32m    243\u001b[0m \u001b[0;34m\u001b[0m\u001b[0m\n",
      "\u001b[0;31mNoSuchElementException\u001b[0m: Message: no such element: Unable to locate element: {\"method\":\"link text\",\"selector\":\"14\"}\n  (Session info: chrome=66.0.3359.139)\n  (Driver info: chromedriver=2.38.552522 (437e6fbedfa8762dec75e2c5b3ddb86763dc9dcb),platform=Linux 4.10.0-42-generic x86_64)\n",
      "\nDuring handling of the above exception, another exception occurred:\n",
      "\u001b[0;31mNameError\u001b[0m                                 Traceback (most recent call last)",
      "\u001b[0;32m<ipython-input-12-e46f54886cc0>\u001b[0m in \u001b[0;36m<module>\u001b[0;34m()\u001b[0m\n\u001b[1;32m     17\u001b[0m             \u001b[0;32mwith\u001b[0m \u001b[0mopen\u001b[0m\u001b[0;34m(\u001b[0m\u001b[0;34m'specialisti_test.txt'\u001b[0m\u001b[0;34m,\u001b[0m \u001b[0mmode\u001b[0m\u001b[0;34m=\u001b[0m\u001b[0;34m'a'\u001b[0m\u001b[0;34m)\u001b[0m \u001b[0;32mas\u001b[0m \u001b[0mteksts\u001b[0m\u001b[0;34m:\u001b[0m\u001b[0;34m\u001b[0m\u001b[0m\n\u001b[1;32m     18\u001b[0m                 \u001b[0mteksts\u001b[0m\u001b[0;34m.\u001b[0m\u001b[0mwrite\u001b[0m\u001b[0;34m(\u001b[0m\u001b[0;34mf'{zx}\\n'\u001b[0m\u001b[0;34m)\u001b[0m\u001b[0;34m\u001b[0m\u001b[0m\n\u001b[0;32m---> 19\u001b[0;31m \u001b[0;32mexcept\u001b[0m \u001b[0mNoSuchElementException\u001b[0m \u001b[0;32mas\u001b[0m \u001b[0mErr\u001b[0m\u001b[0;34m:\u001b[0m\u001b[0;34m\u001b[0m\u001b[0m\n\u001b[0m\u001b[1;32m     20\u001b[0m     \u001b[0mprint\u001b[0m\u001b[0;34m(\u001b[0m\u001b[0;34mf'Kluda: ({Err})'\u001b[0m\u001b[0;34m)\u001b[0m\u001b[0;34m\u001b[0m\u001b[0m\n\u001b[1;32m     21\u001b[0m     \u001b[0;31m#pass\u001b[0m\u001b[0;34m\u001b[0m\u001b[0;34m\u001b[0m\u001b[0m\n",
      "\u001b[0;31mNameError\u001b[0m: name 'NoSuchElementException' is not defined"
     ]
    }
   ],
   "source": [
    "import time\n",
    "from bs4 import BeautifulSoup\n",
    "from selenium import webdriver\n",
    "browser=webdriver.Chrome()#vajag instalet ChromeDriver\n",
    "browser.get('http://www.dvi.gov.lv/pub/pub.php?f=spd#')#Loads a web page in the current browser session.\n",
    "try:\n",
    "    i=1\n",
    "    while i<15:#manuali ievadi lapu skaitu\n",
    "        i=i+1\n",
    "        time.sleep(1)\n",
    "        browser.find_element_by_link_text(str(i)).click() \n",
    "        pageSource=browser.page_source\n",
    "        bsObj2=BeautifulSoup(pageSource)\n",
    "        for spec in bsObj2.find_all(name='td'):#Extracts a list of Tag objects that match the given\n",
    "            zx=spec.get_text(separator='|', strip=('title'))\n",
    "            with open('specialisti_test.txt', mode='a') as teksts:\n",
    "                teksts.write(f'{zx}\\n')\n",
    "except NoSuchElementException as Err:\n",
    "    print(f'Kluda: ({Err})')\n",
    "    #pass\n",
    "except Exception as err:\n",
    "    print(f'Unknown exception ({err})')\n",
    "browser.close()"
   ]
  },
  {
   "cell_type": "code",
   "execution_count": 3,
   "metadata": {},
   "outputs": [],
   "source": [
    "#BeautifulSoup nav vajadzigs jo firefox jau dara parsing\n",
    "from selenium import webdriver\n",
    "browser=webdriver.Firefox()#vajag instalet ChromeDriver\n",
    "browser.get('http://www.dvi.gov.lv/pub/pub.php?f=spd#')#Loads a web page in the current browser session."
   ]
  },
  {
   "cell_type": "code",
   "execution_count": 5,
   "metadata": {},
   "outputs": [],
   "source": [
    "table=browser.find_element_by_id('rectable')"
   ]
  },
  {
   "cell_type": "code",
   "execution_count": 9,
   "metadata": {},
   "outputs": [],
   "source": [
    "rows=table.find_elements_by_tag_name('tr')"
   ]
  },
  {
   "cell_type": "code",
   "execution_count": 10,
   "metadata": {},
   "outputs": [
    {
     "data": {
      "text/plain": [
       "15"
      ]
     },
     "execution_count": 10,
     "metadata": {},
     "output_type": "execute_result"
    }
   ],
   "source": [
    "len(rows)"
   ]
  },
  {
   "cell_type": "code",
   "execution_count": 11,
   "metadata": {},
   "outputs": [
    {
     "data": {
      "text/plain": [
       "3"
      ]
     },
     "execution_count": 11,
     "metadata": {},
     "output_type": "execute_result"
    }
   ],
   "source": [
    "c1=rows[0].find_elements_by_tag_name('td')\n",
    "len(c1)"
   ]
  },
  {
   "cell_type": "code",
   "execution_count": 13,
   "metadata": {},
   "outputs": [
    {
     "data": {
      "text/plain": [
       "['Kristaps Miļevskis',\n",
       " 'Centrālā statistikas pārvalde\\nLāčplēša iela 1, Rīga, LV-1301\\n67366782\\nkristaps.milevskis@csb.gov.lv',\n",
       " ' 2018-11-27']"
      ]
     },
     "execution_count": 13,
     "metadata": {},
     "output_type": "execute_result"
    }
   ],
   "source": [
    "[el.text for el in c1]"
   ]
  },
  {
   "cell_type": "code",
   "execution_count": 25,
   "metadata": {},
   "outputs": [
    {
     "name": "stdout",
     "output_type": "stream",
     "text": [
      "['Irvins Gustsons', 'Skanstes 12, SIA\\nSkanstes iela 12, Rīga, LV-1013\\n67015326\\nirvins.gustsons@dnb.lv', ' 2021-07-19']\n",
      "['Irvins Gustsons', 'DNB Līzings, SIA\\nSkanstes iela 12, Rīga, LV-1013\\n67015326\\nirvins.gustsons@dnb.lv', ' 2021-07-19']\n",
      "['Irvins Gustsons', 'DNB Asset Management, IPAS\\nSkanstes iela 12, Rīga, LV-1013\\n67015326\\nirvins.gustsons@dnb.lv', ' 2021-07-19']\n",
      "['Uvis Briedis', 'VIRŠI-A, AS\\nGaismas iela 35, Salaspils, LV-2169\\n25714265\\nuvis.briedis@virsi.lv', ' 2022-06-01']\n",
      "['Laura Jansone-Kalinkeviča', 'Polar Bek Daugava, SIA\\nKuģu iela 24, Rīga, LV-1048\\n67061111\\nlaura.berzina@radissonbli.com', ' 2018-09-23']\n",
      "['Irvins Gustsons', 'DNB Bank ASA\\nSkanstes iela 12, Rīga, LV-1013\\n67015326\\nirvins.gustsons@dnb.lv', ' 2021-07-19']\n",
      "['Jānis Rāzna', 'Veselības centru apvienība, AS\\nGrēdu iela 4a, Rīga, LV-1019\\n26336995\\njanis.razna@gmail.com', ' 2022-03-29']\n",
      "['Ivo Krievs', 'G4S Latvia, AS\\nStigu ielā 10, Rīgā, LV-1021\\n29159251\\nIvo.Krievs@krievs.lv; office@lv.g4s.com', ' 2019-03-21']\n",
      "['Ivo Krievs', 'G4S Cash Services Latvia, AS\\nStigu ielā 10, Rīgā, LV-1021\\n29159251\\nIvo.Krievs@krievs.lv; office@lv.g4s.com', ' 2019-03-21']\n",
      "['Lauris Klagišs', 'ZAAO, SIA\\nRīgas ielā 32, Valmierā, LV-4201\\n64281250\\nzaao@zaao.lv', ' 2019-03-21']\n",
      "['Laura Jansone-Kalinkeviča', 'ABAVA, SIA\\nMellužu iela 17-7, Rīga, LV-1067\\n67403950\\ninfo@abava.lv', ' ']\n",
      "['Jānis Rāzna', 'Sentor Farm Aptiekas, AS\\nGrēdu iela 4a, Rīga, LV-1019\\n26336995\\njanis.razna@gmail.com', ' 2022-03-29']\n",
      "['Jūlija Lukjanova', 'Uzņēmumu reģistrs\\nPērses iela 2, Rīga, LV-1011\\n67031848\\nJulija.Lukjanova@ur.gov.lv', ' 2018-09-18']\n",
      "['Ilona Reitere', 'Valsts policija\\nČiekurkalna 1.līnija 1 k-4, Rīga, LV-1026\\n67829506\\nkanc@vp.gov.lv', ' 2018-09-18']\n",
      "['Kristaps Runts', 'Pieaugušo izglītības iestāde „Profesionālās pilnveides mācību centrs”\\nMārcienas iela 8-33, Rīga, LV-1035\\n29696234\\nkristaps.runts@inbox.lv', ' 2022-07-30']\n"
     ]
    }
   ],
   "source": [
    "table=browser.find_element_by_id('rectable')\n",
    "rows=table.find_elements_by_tag_name('tr')\n",
    "for row in rows:\n",
    "    cells=row.find_elements_by_tag_name('td')\n",
    "    spec=[el.text for el in cells]\n",
    "    print(spec)"
   ]
  },
  {
   "cell_type": "code",
   "execution_count": 143,
   "metadata": {},
   "outputs": [],
   "source": [
    "from selenium import webdriver\n",
    "browser=webdriver.Chrome()#vajag instalet ChromeDriver\n",
    "browser.get('http://www.dvi.gov.lv/pub/pub.php?f=spd')#Loads a web page in the current browser session."
   ]
  },
  {
   "cell_type": "code",
   "execution_count": 150,
   "metadata": {},
   "outputs": [
    {
     "data": {
      "text/plain": [
       "2"
      ]
     },
     "execution_count": 150,
     "metadata": {},
     "output_type": "execute_result"
    }
   ],
   "source": [
    "tables=browser.find_elements_by_tag_name(\"tbody\")\n",
    "len(tables)"
   ]
  },
  {
   "cell_type": "code",
   "execution_count": 151,
   "metadata": {},
   "outputs": [
    {
     "data": {
      "text/plain": [
       "<selenium.webdriver.remote.webelement.WebElement (session=\"3f20144b9a5f2e2ce26f4baa3ca05f33\", element=\"0.03649898888796499-2\")>"
      ]
     },
     "execution_count": 151,
     "metadata": {},
     "output_type": "execute_result"
    }
   ],
   "source": [
    "tables[1]"
   ]
  },
  {
   "cell_type": "code",
   "execution_count": 152,
   "metadata": {},
   "outputs": [
    {
     "data": {
      "text/plain": [
       "<selenium.webdriver.remote.webelement.WebElement (session=\"3f20144b9a5f2e2ce26f4baa3ca05f33\", element=\"0.03649898888796499-1\")>"
      ]
     },
     "execution_count": 152,
     "metadata": {},
     "output_type": "execute_result"
    }
   ],
   "source": [
    "tables[0]"
   ]
  },
  {
   "cell_type": "code",
   "execution_count": 153,
   "metadata": {},
   "outputs": [
    {
     "data": {
      "text/plain": [
       "2"
      ]
     },
     "execution_count": 153,
     "metadata": {},
     "output_type": "execute_result"
    }
   ],
   "source": [
    "full_list=[rindas.find_elements_by_tag_name('tr') for rindas in tables]\n",
    "len(full_list)"
   ]
  },
  {
   "cell_type": "code",
   "execution_count": 154,
   "metadata": {},
   "outputs": [
    {
     "data": {
      "text/plain": [
       "[<selenium.webdriver.remote.webelement.WebElement (session=\"3f20144b9a5f2e2ce26f4baa3ca05f33\", element=\"0.03649898888796499-3\")>]"
      ]
     },
     "execution_count": 154,
     "metadata": {},
     "output_type": "execute_result"
    }
   ],
   "source": [
    "full_list[0]"
   ]
  },
  {
   "cell_type": "code",
   "execution_count": 155,
   "metadata": {},
   "outputs": [
    {
     "data": {
      "text/plain": [
       "[<selenium.webdriver.remote.webelement.WebElement (session=\"3f20144b9a5f2e2ce26f4baa3ca05f33\", element=\"0.03649898888796499-4\")>,\n",
       " <selenium.webdriver.remote.webelement.WebElement (session=\"3f20144b9a5f2e2ce26f4baa3ca05f33\", element=\"0.03649898888796499-5\")>,\n",
       " <selenium.webdriver.remote.webelement.WebElement (session=\"3f20144b9a5f2e2ce26f4baa3ca05f33\", element=\"0.03649898888796499-6\")>,\n",
       " <selenium.webdriver.remote.webelement.WebElement (session=\"3f20144b9a5f2e2ce26f4baa3ca05f33\", element=\"0.03649898888796499-7\")>,\n",
       " <selenium.webdriver.remote.webelement.WebElement (session=\"3f20144b9a5f2e2ce26f4baa3ca05f33\", element=\"0.03649898888796499-8\")>,\n",
       " <selenium.webdriver.remote.webelement.WebElement (session=\"3f20144b9a5f2e2ce26f4baa3ca05f33\", element=\"0.03649898888796499-9\")>,\n",
       " <selenium.webdriver.remote.webelement.WebElement (session=\"3f20144b9a5f2e2ce26f4baa3ca05f33\", element=\"0.03649898888796499-10\")>,\n",
       " <selenium.webdriver.remote.webelement.WebElement (session=\"3f20144b9a5f2e2ce26f4baa3ca05f33\", element=\"0.03649898888796499-11\")>,\n",
       " <selenium.webdriver.remote.webelement.WebElement (session=\"3f20144b9a5f2e2ce26f4baa3ca05f33\", element=\"0.03649898888796499-12\")>,\n",
       " <selenium.webdriver.remote.webelement.WebElement (session=\"3f20144b9a5f2e2ce26f4baa3ca05f33\", element=\"0.03649898888796499-13\")>,\n",
       " <selenium.webdriver.remote.webelement.WebElement (session=\"3f20144b9a5f2e2ce26f4baa3ca05f33\", element=\"0.03649898888796499-14\")>,\n",
       " <selenium.webdriver.remote.webelement.WebElement (session=\"3f20144b9a5f2e2ce26f4baa3ca05f33\", element=\"0.03649898888796499-15\")>,\n",
       " <selenium.webdriver.remote.webelement.WebElement (session=\"3f20144b9a5f2e2ce26f4baa3ca05f33\", element=\"0.03649898888796499-16\")>,\n",
       " <selenium.webdriver.remote.webelement.WebElement (session=\"3f20144b9a5f2e2ce26f4baa3ca05f33\", element=\"0.03649898888796499-17\")>,\n",
       " <selenium.webdriver.remote.webelement.WebElement (session=\"3f20144b9a5f2e2ce26f4baa3ca05f33\", element=\"0.03649898888796499-18\")>]"
      ]
     },
     "execution_count": 155,
     "metadata": {},
     "output_type": "execute_result"
    }
   ],
   "source": [
    "full_list[1]"
   ]
  },
  {
   "cell_type": "code",
   "execution_count": 174,
   "metadata": {},
   "outputs": [
    {
     "data": {
      "text/plain": [
       "1"
      ]
     },
     "execution_count": 174,
     "metadata": {},
     "output_type": "execute_result"
    }
   ],
   "source": [
    "rows1=tables[0].find_elements_by_tag_name(\"tr\")\n",
    "len(rows1)\n",
    "#rows"
   ]
  },
  {
   "cell_type": "code",
   "execution_count": 290,
   "metadata": {},
   "outputs": [
    {
     "data": {
      "text/plain": [
       "15"
      ]
     },
     "execution_count": 290,
     "metadata": {},
     "output_type": "execute_result"
    }
   ],
   "source": [
    "rows2=tables[1].find_elements_by_tag_name(\"tr\")\n",
    "len(rows2)\n",
    "#rows"
   ]
  },
  {
   "cell_type": "code",
   "execution_count": 291,
   "metadata": {},
   "outputs": [
    {
     "data": {
      "text/plain": [
       "['\\n    <td width=\"240\" valign=\"bottom\" class=\"cellz\"><strong><a href=\"#\" onclick=\"pdasrpaging(1,\\'\\',\\'vards\\',\\'ASC\\');\">Speciālista vārds,</a>  <a href=\"#\" onclick=\"pdasrpaging(1, \\'\\',\\'uzvards\\',\\'ASC\\');\">uzvārds</a> </strong></td>\\n    <td width=\"430\" valign=\"bottom\" class=\"cellz\"><strong><a href=\"#\" onclick=\"pdasrpaging(1,\\'\\',\\'parzinis\\',\\'ASC\\');\">Kontaktinformācija</a></strong> </td>\\n    <!--<td align=\"center\" width=\"100\" class=\"cellz\"><a href=\"#\" onclick=\"pdasrpaging(1,\\'\\',\\'terminsno\\',\\'ASC\\');\"><strong>No</strong></a> </td>-->\\n     <td align=\"center\" width=\"200\" class=\"cellz\"><a href=\"#\" onclick=\"pdasrpaging(1,\\'\\',\\'terminslidz\\',\\'ASC\\');\"><strong>Termiņš</strong></a> </td>\\n    ']"
      ]
     },
     "execution_count": 291,
     "metadata": {},
     "output_type": "execute_result"
    }
   ],
   "source": [
    "first1 = [el.get_attribute('innerHTML') for el in rows1]\n",
    "first1"
   ]
  },
  {
   "cell_type": "code",
   "execution_count": 179,
   "metadata": {},
   "outputs": [
    {
     "data": {
      "text/plain": [
       "['\\n    <td class=\"cellz\" width=\"240\" valign=\"top\" style=\"height:18px; padding:1px;\">Kristaps Miļevskis<br><br>\\n       <img title=\"Iespējams iepazīties ar informāciju pa pastu\" src=\"pasts.png\" width=\"16\" height=\"16\"> <img title=\"Iespējams iepazīties ar informāciju elektroniski\" src=\"elektroniski.png\" width=\"16\" height=\"16\">      \\n      </td>\\n    <td class=\"cellz\" width=\"430\" title=\"Personas datu apstrādes adreses:\\nLāčplēša iela 1, Rīga, LV-1301\\nSkanstes iela 50, Rīga, LV-1013\\nLiepājas iela 37, Kuldīga, LV-3301\\nMeža iela 7, Valmiera, LV-4201\\nA.Paulāna iela 3a, Preiļi, LV-5301\" valign=\"top\" align=\"left\" style=\"height:18px; padding:1px;\"><b>Centrālā statistikas pārvalde</b><br>Lāčplēša iela 1, Rīga, LV-1301\\n<br>\\n\\n67366782<br>kristaps.milevskis@csb.gov.lv </td>\\n    <td class=\"cellz\" width=\"200\" valign=\"top\" align=\"center\" style=\"height:18px; padding:1px;\">\\n      <!--<table width=\"200\" border=\"0\">\\n        <tr>\\n          <td align=\"left\" width=\"90\">&nbsp;</td>\\n          <td align=\"center\" width=\"20\">&nbsp;-&nbsp;</td>\\n          <td align=\"center\" width=\"90\">-->&nbsp;2018-11-27<!--</td>\\n          </tr>\\n      </table>--></td>\\n    ',\n",
       " '\\n    <td class=\"cellz\" width=\"240\" valign=\"top\" style=\"height:18px; padding:1px;\">Aija Panke<br><br>\\n      <img title=\"Iespējams iepazīties ar informāciju uz vietas\" src=\"uzvietas.png\" width=\"16\" height=\"16\"> <img title=\"Iespējams iepazīties ar informāciju pa pastu\" src=\"pasts.png\" width=\"16\" height=\"16\"> <img title=\"Iespējams iepazīties ar informāciju elektroniski\" src=\"elektroniski.png\" width=\"16\" height=\"16\">      \\n      </td>\\n    <td class=\"cellz\" width=\"430\" title=\"Personas datu apstrādes adreses:\\nKrišjāņa Valdemāra iela 21-21, Rīga, LV-1010\" valign=\"top\" align=\"left\" style=\"height:18px; padding:1px;\"><b>PricewaterhouseCoopers SIA</b><br>Krišjāņa Valdemāra iela 21-21, Rīga, LV-1010\\n<br>\\n\\n67094400<br>aija.panke@lv.pwc.com </td>\\n    <td class=\"cellz\" width=\"200\" valign=\"top\" align=\"center\" style=\"height:18px; padding:1px;\">\\n      <!--<table width=\"200\" border=\"0\">\\n        <tr>\\n          <td align=\"left\" width=\"90\">&nbsp;</td>\\n          <td align=\"center\" width=\"20\">&nbsp;-&nbsp;</td>\\n          <td align=\"center\" width=\"90\">-->&nbsp;2019-01-06<!--</td>\\n          </tr>\\n      </table>--></td>\\n    ',\n",
       " '\\n    <td class=\"cellz\" width=\"240\" valign=\"top\" style=\"height:18px; padding:1px;\">Ilze Murāne<br><br>\\n      <img title=\"Iespējams iepazīties ar informāciju uz vietas\" src=\"uzvietas.png\" width=\"16\" height=\"16\"> <img title=\"Iespējams iepazīties ar informāciju pa pastu\" src=\"pasts.png\" width=\"16\" height=\"16\"> <img title=\"Iespējams iepazīties ar informāciju elektroniski\" src=\"elektroniski.png\" width=\"16\" height=\"16\">      \\n      </td>\\n    <td class=\"cellz\" width=\"430\" title=\"Personas datu apstrādes adreses:\\nKr.Valdemāra iela 2a, Rīga, LV-1050\\nBezdelīgu iela 3, Rīga, LV-1007\\nKr.Valdemāra iela 1b, Rīga, LV-1050\\nĢimnāzijas iela 12, Daugavpils, LV-5403\\nPoruka prospekts 12, Jūrmala, LV-2008\\nTeātra iela 3, Liepāja, LV-3400  \" valign=\"top\" align=\"left\" style=\"height:18px; padding:1px;\"><b>Latvijas Banka</b><br>Kr.Valdemāra iela 2a, Rīga, LV-1050\\n<br>\\n\\n67022300<br>info@bank.lv</td>\\n    <td class=\"cellz\" width=\"200\" valign=\"top\" align=\"center\" style=\"height:18px; padding:1px;\">\\n      <!--<table width=\"200\" border=\"0\">\\n        <tr>\\n          <td align=\"left\" width=\"90\">&nbsp;</td>\\n          <td align=\"center\" width=\"20\">&nbsp;-&nbsp;</td>\\n          <td align=\"center\" width=\"90\">-->&nbsp;2019-03-21<!--</td>\\n          </tr>\\n      </table>--></td>\\n    ',\n",
       " '\\n    <td class=\"cellz\" width=\"240\" valign=\"top\" style=\"height:18px; padding:1px;\">Ivo Krievs<br><br>\\n      <img title=\"Iespējams iepazīties ar informāciju uz vietas\" src=\"uzvietas.png\" width=\"16\" height=\"16\"> <img title=\"Iespējams iepazīties ar informāciju pa pastu\" src=\"pasts.png\" width=\"16\" height=\"16\"> <img title=\"Iespējams iepazīties ar informāciju elektroniski\" src=\"elektroniski.png\" width=\"16\" height=\"16\">      \\n      </td>\\n    <td class=\"cellz\" width=\"430\" title=\"Personas datu apstrādes adreses:\\nKalēju iela 43, Rīga\\n\" valign=\"top\" align=\"left\" style=\"height:18px; padding:1px;\"><b>Baltic International Bank, AS</b><br>Kalēju iela 43, Rīga, LV-1050\\n<br>\\n\\n67000444<br>info@bib.eu </td>\\n    <td class=\"cellz\" width=\"200\" valign=\"top\" align=\"center\" style=\"height:18px; padding:1px;\">\\n      <!--<table width=\"200\" border=\"0\">\\n        <tr>\\n          <td align=\"left\" width=\"90\">&nbsp;</td>\\n          <td align=\"center\" width=\"20\">&nbsp;-&nbsp;</td>\\n          <td align=\"center\" width=\"90\">-->&nbsp;2019-03-21<!--</td>\\n          </tr>\\n      </table>--></td>\\n    ',\n",
       " '\\n    <td class=\"cellz\" width=\"240\" valign=\"top\" style=\"height:18px; padding:1px;\">Aivars Ilsjāns<br><br>\\n      <img title=\"Iespējams iepazīties ar informāciju uz vietas\" src=\"uzvietas.png\" width=\"16\" height=\"16\"> <img title=\"Iespējams iepazīties ar informāciju pa pastu\" src=\"pasts.png\" width=\"16\" height=\"16\"> <img title=\"Iespējams iepazīties ar informāciju elektroniski\" src=\"elektroniski.png\" width=\"16\" height=\"16\">      \\n      </td>\\n    <td class=\"cellz\" width=\"430\" title=\"Personas datu apstrādes adreses:\\nK.Valdemāra iela 10/12, Rīga\" valign=\"top\" align=\"left\" style=\"height:18px; padding:1px;\"><b>LR Aizsardzības ministrija</b><br>K.Valdemāra iela 10/12, Rīga, LV-1473\\n<br>\\n\\n67335253<br>aivars.ilsjans@mod.gov.lv </td>\\n    <td class=\"cellz\" width=\"200\" valign=\"top\" align=\"center\" style=\"height:18px; padding:1px;\">\\n      <!--<table width=\"200\" border=\"0\">\\n        <tr>\\n          <td align=\"left\" width=\"90\">&nbsp;</td>\\n          <td align=\"center\" width=\"20\">&nbsp;-&nbsp;</td>\\n          <td align=\"center\" width=\"90\">-->&nbsp;2020-03-24<!--</td>\\n          </tr>\\n      </table>--></td>\\n    ',\n",
       " '\\n    <td class=\"cellz\" width=\"240\" valign=\"top\" style=\"height:18px; padding:1px;\">Silga Celma<br><br>\\n      <img title=\"Iespējams iepazīties ar informāciju uz vietas\" src=\"uzvietas.png\" width=\"16\" height=\"16\"> <img title=\"Iespējams iepazīties ar informāciju pa pastu\" src=\"pasts.png\" width=\"16\" height=\"16\"> <img title=\"Iespējams iepazīties ar informāciju elektroniski\" src=\"elektroniski.png\" width=\"16\" height=\"16\">      \\n      </td>\\n    <td class=\"cellz\" width=\"430\" title=\"Personas datu apstrādes adreses:\\nPērses ielā 2, Rīgā, Lv-1011\\nKatoļu iela 3, Bauska, LV-3901\\nAlejas iela 68-1A, Daugavpils, LV-5401\\nBrīvības iela 157, Jēkabpils, LV-5201\\nVecā ostmala 40, Liepāja, LV-3401\\nAtbrīvošanas aleja 81, Rēzekne, LV-4601\\nAvotu iela 12, Saldus, LV-3801\\nRīgas iela 25C, Valmiera, LV-4200\\nInženieru iela 101, Ventspils, LV-3601\" valign=\"top\" align=\"left\" style=\"height:18px; padding:1px;\"><b>Uzņēmumu reģistrs</b><br>Pērses ielā 2, Rīgā, LV-1011\\n<br>\\n\\n67031792<br>silga.celma@ur.gov.lv</td>\\n    <td class=\"cellz\" width=\"200\" valign=\"top\" align=\"center\" style=\"height:18px; padding:1px;\">\\n      <!--<table width=\"200\" border=\"0\">\\n        <tr>\\n          <td align=\"left\" width=\"90\">&nbsp;</td>\\n          <td align=\"center\" width=\"20\">&nbsp;-&nbsp;</td>\\n          <td align=\"center\" width=\"90\">-->&nbsp;2020-11-25<!--</td>\\n          </tr>\\n      </table>--></td>\\n    ',\n",
       " '\\n    <td class=\"cellz\" width=\"240\" valign=\"top\" style=\"height:18px; padding:1px;\">Sanita  Liepiņa<br><br>\\n      <img title=\"Iespējams iepazīties ar informāciju uz vietas\" src=\"uzvietas.png\" width=\"16\" height=\"16\"> <img title=\"Iespējams iepazīties ar informāciju pa pastu\" src=\"pasts.png\" width=\"16\" height=\"16\"> <img title=\"Iespējams iepazīties ar informāciju elektroniski\" src=\"elektroniski.png\" width=\"16\" height=\"16\">      \\n      </td>\\n    <td class=\"cellz\" width=\"430\" title=\"Personas datu apstrādes adreses:\\nLidosta &quot;Rīga&quot;, Mārupes nov., LA-1053\" valign=\"top\" align=\"left\" style=\"height:18px; padding:1px;\"><b>Air Baltic Corporation, AS</b><br>Lidosta \"Rīga\", Mārupes nov., LV-1053\\n<br>\\n\\n26395511<br>sanitaliepina@inbox.lv</td>\\n    <td class=\"cellz\" width=\"200\" valign=\"top\" align=\"center\" style=\"height:18px; padding:1px;\">\\n      <!--<table width=\"200\" border=\"0\">\\n        <tr>\\n          <td align=\"left\" width=\"90\">&nbsp;</td>\\n          <td align=\"center\" width=\"20\">&nbsp;-&nbsp;</td>\\n          <td align=\"center\" width=\"90\">-->&nbsp;2020-11-01<!--</td>\\n          </tr>\\n      </table>--></td>\\n    ',\n",
       " '\\n    <td class=\"cellz\" width=\"240\" valign=\"top\" style=\"height:18px; padding:1px;\">Agnese Makejeva<br><br>\\n      <img title=\"Iespējams iepazīties ar informāciju uz vietas\" src=\"uzvietas.png\" width=\"16\" height=\"16\"> <img title=\"Iespējams iepazīties ar informāciju pa pastu\" src=\"pasts.png\" width=\"16\" height=\"16\"> <img title=\"Iespējams iepazīties ar informāciju elektroniski\" src=\"elektroniski.png\" width=\"16\" height=\"16\">      \\n      </td>\\n    <td class=\"cellz\" width=\"430\" title=\"Personas datu apstrādes adreses:\\nVestienas iela 35, Rīga\" valign=\"top\" align=\"left\" style=\"height:18px; padding:1px;\"><b>Rīgas satiksme, Rīgas pašvaldības SIA</b><br>Kleistu iela 28, Rīga, LV-1067\\n<br>\\n\\n29337229<br>agnese.makejeva@rigassatiksme.lv</td>\\n    <td class=\"cellz\" width=\"200\" valign=\"top\" align=\"center\" style=\"height:18px; padding:1px;\">\\n      <!--<table width=\"200\" border=\"0\">\\n        <tr>\\n          <td align=\"left\" width=\"90\">&nbsp;</td>\\n          <td align=\"center\" width=\"20\">&nbsp;-&nbsp;</td>\\n          <td align=\"center\" width=\"90\">-->&nbsp;2020-05-25<!--</td>\\n          </tr>\\n      </table>--></td>\\n    ',\n",
       " '\\n    <td class=\"cellz\" width=\"240\" valign=\"top\" style=\"height:18px; padding:1px;\">Lauris  Klagišs<br><br>\\n       <img title=\"Iespējams iepazīties ar informāciju pa pastu\" src=\"pasts.png\" width=\"16\" height=\"16\"> <img title=\"Iespējams iepazīties ar informāciju elektroniski\" src=\"elektroniski.png\" width=\"16\" height=\"16\">      \\n      </td>\\n    <td class=\"cellz\" width=\"430\" title=\"Personas datu apstrādes adreses:\\nMeža 7, Valmierā, LV-4201\" valign=\"top\" align=\"left\" style=\"height:18px; padding:1px;\"><b>Datu aizsardzības speciālists, SIA</b><br>Meža 7, Valmierā, LV-4201\\n<br>\\n\\n29470425<br>lauris.klagiss@gmail.com </td>\\n    <td class=\"cellz\" width=\"200\" valign=\"top\" align=\"center\" style=\"height:18px; padding:1px;\">\\n      <!--<table width=\"200\" border=\"0\">\\n        <tr>\\n          <td align=\"left\" width=\"90\">&nbsp;</td>\\n          <td align=\"center\" width=\"20\">&nbsp;-&nbsp;</td>\\n          <td align=\"center\" width=\"90\">-->&nbsp;2020-12-21<!--</td>\\n          </tr>\\n      </table>--></td>\\n    ',\n",
       " '\\n    <td class=\"cellz\" width=\"240\" valign=\"top\" style=\"height:18px; padding:1px;\">Dainis Špeļs<br><br>\\n      <img title=\"Iespējams iepazīties ar informāciju uz vietas\" src=\"uzvietas.png\" width=\"16\" height=\"16\"> <img title=\"Iespējams iepazīties ar informāciju pa pastu\" src=\"pasts.png\" width=\"16\" height=\"16\"> <img title=\"Iespējams iepazīties ar informāciju elektroniski\" src=\"elektroniski.png\" width=\"16\" height=\"16\">      \\n      </td>\\n    <td class=\"cellz\" width=\"430\" title=\"Personas datu apstrādes adreses:\\nPilsoņu iela 13, Rīga, Lv-1002\" valign=\"top\" align=\"left\" style=\"height:18px; padding:1px;\"><b>Paula Stradiņa Klīniskā universitātes slimnīca, VSIA</b><br>Pilsoņu iela 13, Rīga, LV-1002\\n<br>\\n\\n67069601<br>stradini@stradini.lv</td>\\n    <td class=\"cellz\" width=\"200\" valign=\"top\" align=\"center\" style=\"height:18px; padding:1px;\">\\n      <!--<table width=\"200\" border=\"0\">\\n        <tr>\\n          <td align=\"left\" width=\"90\">&nbsp;</td>\\n          <td align=\"center\" width=\"20\">&nbsp;-&nbsp;</td>\\n          <td align=\"center\" width=\"90\">-->&nbsp;2018-12-31<!--</td>\\n          </tr>\\n      </table>--></td>\\n    ',\n",
       " '\\n    <td class=\"cellz\" width=\"240\" valign=\"top\" style=\"height:18px; padding:1px;\">Agnese Makejeva<br><br>\\n      <img title=\"Iespējams iepazīties ar informāciju uz vietas\" src=\"uzvietas.png\" width=\"16\" height=\"16\"> <img title=\"Iespējams iepazīties ar informāciju pa pastu\" src=\"pasts.png\" width=\"16\" height=\"16\"> <img title=\"Iespējams iepazīties ar informāciju elektroniski\" src=\"elektroniski.png\" width=\"16\" height=\"16\">      \\n      </td>\\n    <td class=\"cellz\" width=\"430\" title=\"Personas datu apstrādes adreses:\\nVīlandes iela 6-3, Rīga, LV-1010\" valign=\"top\" align=\"left\" style=\"height:18px; padding:1px;\"><b>Rīgas Karte, SIA</b><br>Vīlandes iela 6-3, Rīga, LV-1010\\n<br>\\n\\n29337229<br>agnesemak@inbox.lv</td>\\n    <td class=\"cellz\" width=\"200\" valign=\"top\" align=\"center\" style=\"height:18px; padding:1px;\">\\n      <!--<table width=\"200\" border=\"0\">\\n        <tr>\\n          <td align=\"left\" width=\"90\">&nbsp;</td>\\n          <td align=\"center\" width=\"20\">&nbsp;-&nbsp;</td>\\n          <td align=\"center\" width=\"90\">-->&nbsp;2020-05-25<!--</td>\\n          </tr>\\n      </table>--></td>\\n    ',\n",
       " '\\n    <td class=\"cellz\" width=\"240\" valign=\"top\" style=\"height:18px; padding:1px;\">Irvins Gustsons<br><br>\\n       <img title=\"Iespējams iepazīties ar informāciju pa pastu\" src=\"pasts.png\" width=\"16\" height=\"16\"> <img title=\"Iespējams iepazīties ar informāciju elektroniski\" src=\"elektroniski.png\" width=\"16\" height=\"16\">      \\n      </td>\\n    <td class=\"cellz\" width=\"430\" title=\"Personas datu apstrādes adreses:\\nSkanstes iela 12, Rīga, LV-1013\" valign=\"top\" align=\"left\" style=\"height:18px; padding:1px;\"><b>DnB Banka, AS</b><br>Skanstes iela 12, Rīga, LV-1013\\n<br>\\n\\n67015326<br>irvins.gustsons@dnb.lv</td>\\n    <td class=\"cellz\" width=\"200\" valign=\"top\" align=\"center\" style=\"height:18px; padding:1px;\">\\n      <!--<table width=\"200\" border=\"0\">\\n        <tr>\\n          <td align=\"left\" width=\"90\">&nbsp;</td>\\n          <td align=\"center\" width=\"20\">&nbsp;-&nbsp;</td>\\n          <td align=\"center\" width=\"90\">-->&nbsp;2021-07-19<!--</td>\\n          </tr>\\n      </table>--></td>\\n    ',\n",
       " '\\n    <td class=\"cellz\" width=\"240\" valign=\"top\" style=\"height:18px; padding:1px;\">Irvins Gustsons<br><br>\\n       <img title=\"Iespējams iepazīties ar informāciju pa pastu\" src=\"pasts.png\" width=\"16\" height=\"16\"> <img title=\"Iespējams iepazīties ar informāciju elektroniski\" src=\"elektroniski.png\" width=\"16\" height=\"16\">      \\n      </td>\\n    <td class=\"cellz\" width=\"430\" title=\"Personas datu apstrādes adreses:\\nSkanstes iela 12, Rīga, LV-1013\" valign=\"top\" align=\"left\" style=\"height:18px; padding:1px;\"><b>Salvus 3, SIA</b><br>Skanstes iela 12, Rīga, LV-1013\\n<br>\\n\\n67015326<br>irvins.gustsons@dnb.lv</td>\\n    <td class=\"cellz\" width=\"200\" valign=\"top\" align=\"center\" style=\"height:18px; padding:1px;\">\\n      <!--<table width=\"200\" border=\"0\">\\n        <tr>\\n          <td align=\"left\" width=\"90\">&nbsp;</td>\\n          <td align=\"center\" width=\"20\">&nbsp;-&nbsp;</td>\\n          <td align=\"center\" width=\"90\">-->&nbsp;2021-07-19<!--</td>\\n          </tr>\\n      </table>--></td>\\n    ',\n",
       " '\\n    <td class=\"cellz\" width=\"240\" valign=\"top\" style=\"height:18px; padding:1px;\">Irvins Gustsons<br><br>\\n       <img title=\"Iespējams iepazīties ar informāciju pa pastu\" src=\"pasts.png\" width=\"16\" height=\"16\"> <img title=\"Iespējams iepazīties ar informāciju elektroniski\" src=\"elektroniski.png\" width=\"16\" height=\"16\">      \\n      </td>\\n    <td class=\"cellz\" width=\"430\" title=\"Personas datu apstrādes adreses:\\nSkanstes iela 12, Rīga, LV-1013\" valign=\"top\" align=\"left\" style=\"height:18px; padding:1px;\"><b>Salvus 2, SIA</b><br>Skanstes iela 12, Rīga, LV-1013\\n<br>\\n\\n67015326<br>irvins.gustsons@dnb.lv</td>\\n    <td class=\"cellz\" width=\"200\" valign=\"top\" align=\"center\" style=\"height:18px; padding:1px;\">\\n      <!--<table width=\"200\" border=\"0\">\\n        <tr>\\n          <td align=\"left\" width=\"90\">&nbsp;</td>\\n          <td align=\"center\" width=\"20\">&nbsp;-&nbsp;</td>\\n          <td align=\"center\" width=\"90\">-->&nbsp;2021-07-19<!--</td>\\n          </tr>\\n      </table>--></td>\\n    ',\n",
       " '\\n    <td class=\"cellz\" width=\"240\" valign=\"top\" style=\"height:18px; padding:1px;\">Irvins Gustsons<br><br>\\n       <img title=\"Iespējams iepazīties ar informāciju pa pastu\" src=\"pasts.png\" width=\"16\" height=\"16\"> <img title=\"Iespējams iepazīties ar informāciju elektroniski\" src=\"elektroniski.png\" width=\"16\" height=\"16\">      \\n      </td>\\n    <td class=\"cellz\" width=\"430\" title=\"Personas datu apstrādes adreses:\\nSkanstes iela 12, Rīga, LV-1013\" valign=\"top\" align=\"left\" style=\"height:18px; padding:1px;\"><b>Salvus, SIA</b><br>Skanstes iela 12, Rīga, LV-1013\\n<br>\\n\\n67015326<br>irvins.gustsons@dnb.lv</td>\\n    <td class=\"cellz\" width=\"200\" valign=\"top\" align=\"center\" style=\"height:18px; padding:1px;\">\\n      <!--<table width=\"200\" border=\"0\">\\n        <tr>\\n          <td align=\"left\" width=\"90\">&nbsp;</td>\\n          <td align=\"center\" width=\"20\">&nbsp;-&nbsp;</td>\\n          <td align=\"center\" width=\"90\">-->&nbsp;2021-07-19<!--</td>\\n          </tr>\\n      </table>--></td>\\n    ']"
      ]
     },
     "execution_count": 179,
     "metadata": {},
     "output_type": "execute_result"
    }
   ],
   "source": [
    "first2 = [el.get_attribute('innerHTML') for el in rows2]\n",
    "first2"
   ]
  },
  {
   "cell_type": "code",
   "execution_count": 214,
   "metadata": {},
   "outputs": [
    {
     "data": {
      "text/plain": [
       "3"
      ]
     },
     "execution_count": 214,
     "metadata": {},
     "output_type": "execute_result"
    }
   ],
   "source": [
    "cells1=rows1[0].find_elements_by_tag_name(\"td\") #sunas 1. tabulas vienigaja rinda\n",
    "len(cells1)"
   ]
  },
  {
   "cell_type": "code",
   "execution_count": 298,
   "metadata": {},
   "outputs": [
    {
     "data": {
      "text/plain": [
       "3"
      ]
     },
     "execution_count": 298,
     "metadata": {},
     "output_type": "execute_result"
    }
   ],
   "source": [
    "\n",
    "cellsN=rows2[10].find_elements_by_tag_name(\"td\") #sunas 2. tabulas N rindas\n",
    "len(cellsN)"
   ]
  },
  {
   "cell_type": "code",
   "execution_count": 304,
   "metadata": {},
   "outputs": [
    {
     "name": "stdout",
     "output_type": "stream",
     "text": [
      "\n",
      "Personas datu apstrādes adreses:\n",
      "Lāčplēša iela 1, Rīga, LV-1301\n",
      "Skanstes iela 50, Rīga, LV-1013\n",
      "Liepājas iela 37, Kuldīga, LV-3301\n",
      "Meža iela 7, Valmiera, LV-4201\n",
      "A.Paulāna iela 3a, Preiļi, LV-5301\n",
      "\n",
      "\n",
      "Personas datu apstrādes adreses:\n",
      "Krišjāņa Valdemāra iela 21-21, Rīga, LV-1010\n",
      "\n",
      "\n",
      "Personas datu apstrādes adreses:\n",
      "Kr.Valdemāra iela 2a, Rīga, LV-1050\n",
      "Bezdelīgu iela 3, Rīga, LV-1007\n",
      "Kr.Valdemāra iela 1b, Rīga, LV-1050\n",
      "Ģimnāzijas iela 12, Daugavpils, LV-5403\n",
      "Poruka prospekts 12, Jūrmala, LV-2008\n",
      "Teātra iela 3, Liepāja, LV-3400  \n",
      "\n",
      "\n",
      "Personas datu apstrādes adreses:\n",
      "Kalēju iela 43, Rīga\n",
      "\n",
      "\n",
      "\n",
      "Personas datu apstrādes adreses:\n",
      "K.Valdemāra iela 10/12, Rīga\n",
      "\n",
      "\n",
      "Personas datu apstrādes adreses:\n",
      "Pērses ielā 2, Rīgā, Lv-1011\n",
      "Katoļu iela 3, Bauska, LV-3901\n",
      "Alejas iela 68-1A, Daugavpils, LV-5401\n",
      "Brīvības iela 157, Jēkabpils, LV-5201\n",
      "Vecā ostmala 40, Liepāja, LV-3401\n",
      "Atbrīvošanas aleja 81, Rēzekne, LV-4601\n",
      "Avotu iela 12, Saldus, LV-3801\n",
      "Rīgas iela 25C, Valmiera, LV-4200\n",
      "Inženieru iela 101, Ventspils, LV-3601\n",
      "\n",
      "\n",
      "Personas datu apstrādes adreses:\n",
      "Lidosta \"Rīga\", Mārupes nov., LA-1053\n",
      "\n",
      "\n",
      "Personas datu apstrādes adreses:\n",
      "Vestienas iela 35, Rīga\n",
      "\n",
      "\n",
      "Personas datu apstrādes adreses:\n",
      "Meža 7, Valmierā, LV-4201\n",
      "\n",
      "\n",
      "Personas datu apstrādes adreses:\n",
      "Pilsoņu iela 13, Rīga, Lv-1002\n",
      "\n",
      "\n",
      "Personas datu apstrādes adreses:\n",
      "Vīlandes iela 6-3, Rīga, LV-1010\n",
      "\n",
      "\n",
      "Personas datu apstrādes adreses:\n",
      "Skanstes iela 12, Rīga, LV-1013\n",
      "\n",
      "\n",
      "Personas datu apstrādes adreses:\n",
      "Skanstes iela 12, Rīga, LV-1013\n",
      "\n",
      "\n",
      "Personas datu apstrādes adreses:\n",
      "Skanstes iela 12, Rīga, LV-1013\n",
      "\n",
      "\n",
      "Personas datu apstrādes adreses:\n",
      "Skanstes iela 12, Rīga, LV-1013\n",
      "\n"
     ]
    }
   ],
   "source": [
    "for m in range(0, (len(rows2))):\n",
    "    suna=rows2[m].find_elements_by_tag_name(\"td\")\n",
    "    for n in range(0,(len(suna))):\n",
    "        adrese=suna[n].get_attribute('title')\n",
    "        print(adrese)\n",
    "    "
   ]
  },
  {
   "cell_type": "code",
   "execution_count": null,
   "metadata": {},
   "outputs": [],
   "source": []
  }
 ],
 "metadata": {
  "kernelspec": {
   "display_name": "Python 3",
   "language": "python",
   "name": "python3"
  },
  "language_info": {
   "codemirror_mode": {
    "name": "ipython",
    "version": 3
   },
   "file_extension": ".py",
   "mimetype": "text/x-python",
   "name": "python",
   "nbconvert_exporter": "python",
   "pygments_lexer": "ipython3",
   "version": "3.6.4"
  }
 },
 "nbformat": 4,
 "nbformat_minor": 2
}
