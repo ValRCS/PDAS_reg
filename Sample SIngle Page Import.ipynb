{
 "cells": [
  {
   "cell_type": "code",
   "execution_count": 1,
   "metadata": {},
   "outputs": [],
   "source": [
    "from selenium import webdriver\n",
    "browser=webdriver.Chrome()#vajag instalet ChromeDriver\n",
    "browser.get('http://www.dvi.gov.lv/pub/pub.php?f=spd')#Loads a web page in the current browser session."
   ]
  },
  {
   "cell_type": "code",
   "execution_count": 2,
   "metadata": {},
   "outputs": [
    {
     "data": {
      "text/plain": [
       "selenium.webdriver.remote.webelement.WebElement"
      ]
     },
     "execution_count": 2,
     "metadata": {},
     "output_type": "execute_result"
    }
   ],
   "source": [
    "table=browser.find_element_by_id('rectable') ## if no id we could have used find_elements_by_tag('table')\n",
    "type(table)"
   ]
  },
  {
   "cell_type": "code",
   "execution_count": 4,
   "metadata": {},
   "outputs": [
    {
     "data": {
      "text/plain": [
       "15"
      ]
     },
     "execution_count": 4,
     "metadata": {},
     "output_type": "execute_result"
    }
   ],
   "source": [
    "rows=table.find_elements_by_tag_name('tr')\n",
    "len(rows)"
   ]
  },
  {
   "cell_type": "code",
   "execution_count": 15,
   "metadata": {},
   "outputs": [],
   "source": []
  },
  {
   "cell_type": "code",
   "execution_count": 17,
   "metadata": {},
   "outputs": [
    {
     "name": "stdout",
     "output_type": "stream",
     "text": [
      "['Kristaps Miļevskis', 'Centrālā statistikas pārvalde\\nLāčplēša iela 1, Rīga, LV-1301\\n67366782\\nkristaps.milevskis@csb.gov.lv', ' 2018-11-27']\n",
      "['Aija Panke', 'PricewaterhouseCoopers SIA\\nKrišjāņa Valdemāra iela 21-21, Rīga, LV-1010\\n67094400\\naija.panke@lv.pwc.com', ' 2019-01-06']\n",
      "['Ilze Murāne', 'Latvijas Banka\\nKr.Valdemāra iela 2a, Rīga, LV-1050\\n67022300\\ninfo@bank.lv', ' 2019-03-21']\n",
      "['Ivo Krievs', 'Baltic International Bank, AS\\nKalēju iela 43, Rīga, LV-1050\\n67000444\\ninfo@bib.eu', ' 2019-03-21']\n",
      "['Aivars Ilsjāns', 'LR Aizsardzības ministrija\\nK.Valdemāra iela 10/12, Rīga, LV-1473\\n67335253\\naivars.ilsjans@mod.gov.lv', ' 2020-03-24']\n",
      "['Silga Celma', 'Uzņēmumu reģistrs\\nPērses ielā 2, Rīgā, LV-1011\\n67031792\\nsilga.celma@ur.gov.lv', ' 2020-11-25']\n",
      "['Sanita Liepiņa', 'Air Baltic Corporation, AS\\nLidosta \"Rīga\", Mārupes nov., LV-1053\\n26395511\\nsanitaliepina@inbox.lv', ' 2020-11-01']\n",
      "['Agnese Makejeva', 'Rīgas satiksme, Rīgas pašvaldības SIA\\nKleistu iela 28, Rīga, LV-1067\\n29337229\\nagnese.makejeva@rigassatiksme.lv', ' 2020-05-25']\n",
      "['Lauris Klagišs', 'Datu aizsardzības speciālists, SIA\\nMeža 7, Valmierā, LV-4201\\n29470425\\nlauris.klagiss@gmail.com', ' 2020-12-21']\n",
      "['Dainis Špeļs', 'Paula Stradiņa Klīniskā universitātes slimnīca, VSIA\\nPilsoņu iela 13, Rīga, LV-1002\\n67069601\\nstradini@stradini.lv', ' 2018-12-31']\n",
      "['Agnese Makejeva', 'Rīgas Karte, SIA\\nVīlandes iela 6-3, Rīga, LV-1010\\n29337229\\nagnesemak@inbox.lv', ' 2020-05-25']\n",
      "['Irvins Gustsons', 'DnB Banka, AS\\nSkanstes iela 12, Rīga, LV-1013\\n67015326\\nirvins.gustsons@dnb.lv', ' 2021-07-19']\n",
      "['Irvins Gustsons', 'Salvus 3, SIA\\nSkanstes iela 12, Rīga, LV-1013\\n67015326\\nirvins.gustsons@dnb.lv', ' 2021-07-19']\n",
      "['Irvins Gustsons', 'Salvus 2, SIA\\nSkanstes iela 12, Rīga, LV-1013\\n67015326\\nirvins.gustsons@dnb.lv', ' 2021-07-19']\n",
      "['Irvins Gustsons', 'Salvus, SIA\\nSkanstes iela 12, Rīga, LV-1013\\n67015326\\nirvins.gustsons@dnb.lv', ' 2021-07-19']\n"
     ]
    }
   ],
   "source": [
    "speclist = []\n",
    "for row in rows:\n",
    "    cells=row.find_elements_by_tag_name('td')\n",
    "    spec=[el.text for el in cells]\n",
    "    speclist.append(spec) # +=spec  would have flattened the list which we do not want here\n",
    "    print(spec)"
   ]
  },
  {
   "cell_type": "code",
   "execution_count": 18,
   "metadata": {},
   "outputs": [
    {
     "data": {
      "text/plain": [
       "15"
      ]
     },
     "execution_count": 18,
     "metadata": {},
     "output_type": "execute_result"
    }
   ],
   "source": [
    "len(speclist)"
   ]
  },
  {
   "cell_type": "code",
   "execution_count": 19,
   "metadata": {},
   "outputs": [
    {
     "data": {
      "text/plain": [
       "['Kristaps Miļevskis',\n",
       " 'Centrālā statistikas pārvalde\\nLāčplēša iela 1, Rīga, LV-1301\\n67366782\\nkristaps.milevskis@csb.gov.lv',\n",
       " ' 2018-11-27']"
      ]
     },
     "execution_count": 19,
     "metadata": {},
     "output_type": "execute_result"
    }
   ],
   "source": [
    "speclist[0]"
   ]
  },
  {
   "cell_type": "code",
   "execution_count": 21,
   "metadata": {},
   "outputs": [
    {
     "name": "stdout",
     "output_type": "stream",
     "text": [
      "Aija Panke|PricewaterhouseCoopers SIA\n",
      "Krišjāņa Valdemāra iela 21-21, Rīga, LV-1010\n",
      "67094400\n",
      "aija.panke@lv.pwc.com| 2019-01-06\n"
     ]
    }
   ],
   "source": [
    "#one way of formatting but we still have the newlines in address speclist[1][1]\n",
    "print(('|').join(speclist[1]))"
   ]
  },
  {
   "cell_type": "code",
   "execution_count": 23,
   "metadata": {},
   "outputs": [
    {
     "data": {
      "text/plain": [
       "'PricewaterhouseCoopers SIA Krišjāņa Valdemāra iela 21-21, Rīga, LV-1010 67094400 aija.panke@lv.pwc.com'"
      ]
     },
     "execution_count": 23,
     "metadata": {},
     "output_type": "execute_result"
    }
   ],
   "source": [
    "#one way of stripping newlines from address\n",
    "speclist[1][1].replace('\\n',' ')"
   ]
  },
  {
   "cell_type": "code",
   "execution_count": 25,
   "metadata": {},
   "outputs": [
    {
     "data": {
      "text/plain": [
       "['PricewaterhouseCoopers SIA',\n",
       " 'Krišjāņa Valdemāra iela 21-21, Rīga, LV-1010',\n",
       " '67094400',\n",
       " 'aija.panke@lv.pwc.com']"
      ]
     },
     "execution_count": 25,
     "metadata": {},
     "output_type": "execute_result"
    }
   ],
   "source": [
    "# could also make a new list just for contact information to further separate fields\n",
    "speclist[1][1].split('\\n')"
   ]
  },
  {
   "cell_type": "code",
   "execution_count": 26,
   "metadata": {},
   "outputs": [],
   "source": [
    "import csv "
   ]
  },
  {
   "cell_type": "code",
   "execution_count": 29,
   "metadata": {},
   "outputs": [],
   "source": [
    "with open('speclist.csv', 'w', encoding=\"utf-8\") as fin:\n",
    "    writer=csv.writer(fin)\n",
    "    writer.writerows(speclist)"
   ]
  },
  {
   "cell_type": "code",
   "execution_count": null,
   "metadata": {},
   "outputs": [],
   "source": [
    "# to open UTF-8 CSV in excel you might need to play around a bit:\n",
    "# https://www.itg.ias.edu/content/how-import-csv-file-uses-utf-8-character-encoding-0"
   ]
  }
 ],
 "metadata": {
  "kernelspec": {
   "display_name": "Python 3",
   "language": "python",
   "name": "python3"
  },
  "language_info": {
   "codemirror_mode": {
    "name": "ipython",
    "version": 3
   },
   "file_extension": ".py",
   "mimetype": "text/x-python",
   "name": "python",
   "nbconvert_exporter": "python",
   "pygments_lexer": "ipython3",
   "version": "3.6.4"
  }
 },
 "nbformat": 4,
 "nbformat_minor": 2
}
